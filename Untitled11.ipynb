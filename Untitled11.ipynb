{
 "cells": [
  {
   "cell_type": "code",
   "execution_count": 3,
   "id": "ffd1b14e-2e0f-4950-92cd-02ebb6f0691c",
   "metadata": {},
   "outputs": [
    {
     "name": "stdout",
     "output_type": "stream",
     "text": [
      "CARS        RATE\n",
      "volsvago    154k\n",
      "benz        540k\n",
      "maruthi      23k\n",
      "dtype: object\n"
     ]
    }
   ],
   "source": [
    "import pandas as pd\n",
    "x=[\"CARS\",\"volsvago\",\"benz\",\"maruthi\"]\n",
    "rate=[\"RATE\",\"154k\",\"540k\",\"23k\"]\n",
    "a=pd.Series(rate,index=x)\n",
    "print(a)\n"
   ]
  },
  {
   "cell_type": "code",
   "execution_count": 17,
   "id": "64fa3564-60fe-487c-a8cf-5416c877d3fd",
   "metadata": {},
   "outputs": [
    {
     "name": "stdout",
     "output_type": "stream",
     "text": [
      "DatetimeIndex(['2021-05-01', '2021-05-02', '2021-05-03', '2021-05-04',\n",
      "               '2021-05-05', '2021-05-06', '2021-05-07', '2021-05-08',\n",
      "               '2021-05-09', '2021-05-10', '2021-05-11', '2021-05-12'],\n",
      "              dtype='datetime64[ns]', freq='D')\n"
     ]
    }
   ],
   "source": [
    "date=pd.date_range(start=\"05-01-2021\",end=\"05-12-2021\")\n",
    "print(date)"
   ]
  },
  {
   "cell_type": "code",
   "execution_count": 32,
   "id": "cd9b8490-d5f7-4dc9-af60-8774a8c8efd3",
   "metadata": {},
   "outputs": [
    {
     "name": "stdout",
     "output_type": "stream",
     "text": [
      "  Type_of_Radiation Wavelength_Range\n",
      "0              xray      1 nm – 1 pm\n",
      "1                UV    400 nm – 1 nm\n",
      "2                IR  2.5 μm – 750 nm\n",
      "3           visible  750 nm – 400 nm\n"
     ]
    }
   ],
   "source": [
    "x={\"Type_of_Radiation\":[\"xray\",\"UV\",\"IR\",\"visible\"],\"Wavelength_Range\":[\"1 nm – 1 pm\",'400 nm – 1 nm','2.5 μm – 750 nm','750 nm – 400 nm']}\n",
    "g=pd.DataFrame(x)\n",
    "print(g)"
   ]
  },
  {
   "cell_type": "code",
   "execution_count": 63,
   "id": "6c743812-4b55-48a4-9073-bd5804b57151",
   "metadata": {},
   "outputs": [
    {
     "name": "stdout",
     "output_type": "stream",
     "text": [
      "   0  1  2  3\n",
      "0  1  2  3  4\n",
      "1  4  6  7  8\n",
      "2  5  5  8  0\n"
     ]
    }
   ],
   "source": [
    "x=[1,2,3,4],[4,6,7,8],[5,5,8,0]\n",
    "g=pd.DataFrame(x)\n",
    "print(g)"
   ]
  },
  {
   "cell_type": "code",
   "execution_count": 67,
   "id": "1a84a5b2-bcc9-48d7-bb51-daeb7225dd3d",
   "metadata": {},
   "outputs": [
    {
     "name": "stdout",
     "output_type": "stream",
     "text": [
      "    Year  GDP_In_Billion_USD  Per_Capita_in_USD  Percentage_Growth \n",
      "0   2021             3173.40               2277                8.95\n",
      "1   2020             2667.69               1933               -6.60\n",
      "2   2019             2831.55               2072                3.74\n",
      "3   2018             2702.93               1998                6.45\n",
      "4   2017             2651.47               1981                6.80\n",
      "5   2016             2294.80               1733                8.26\n",
      "6   2015             2103.59               1606                8.00\n",
      "7   2014             2039.13               1574                7.41\n",
      "8   2013             1856.72               1450                6.39\n",
      "9   2012             1827.64               1444                5.46\n",
      "10  2011             1823.05               1458                5.24\n",
      "11  2010             1675.62               1358                8.50\n",
      "12  2009             1341.89               1102                7.86\n",
      "13  2008             1198.90                999                3.09\n",
      "14  2007             1216.74               1028                7.66\n",
      "15  2006              940.26                807                8.06\n",
      "16  2005              820.38                715                7.92\n",
      "17  2004              709.15                628                7.92\n",
      "18  2003              607.70                547                7.86\n",
      "19  2002              514.94                471                3.80\n",
      "20  2001              485.44                452                4.82\n",
      "21  2000              468.39                443                3.84\n",
      "22  1999              458.82                442                8.85\n",
      "23  1998              421.35                413                6.18\n",
      "24  1997              415.87                415                4.05\n",
      "25  1996              392.90                400                7.55\n",
      "26  1995              360.28                374                7.57\n",
      "27  1994              327.28                346                6.66\n",
      "28  1993              279.30                301                4.75\n",
      "29  1992              288.21                317                5.48\n",
      "30  1991              270.11                303                1.06\n",
      "31  1990              320.98                368                5.53\n",
      "32  1989              296.04                346                5.95\n",
      "33  1988              296.59                354                9.63\n",
      "34  1987              279.03                340                3.97\n",
      "35  1986              248.99                310                4.78\n",
      "36  1985              232.51                296                5.25\n",
      "37  1984              212.16                277                3.82\n",
      "38  1983              218.26                291                7.29\n",
      "39  1982              200.72                274                3.48\n",
      "40  1981              193.49                270                6.01\n",
      "41  1980              186.33                267                6.74\n",
      "42  1979              152.99                224               -5.24\n",
      "43  1978              137.30                206                5.71\n",
      "44  1977              121.49                186                7.25\n",
      "45  1976              102.72                161                1.66\n",
      "46  1975               98.47                158                9.15\n",
      "47  1974               99.53                163                1.19\n",
      "48  1973               85.52                144                3.30\n",
      "49  1972               71.46                123               -0.55\n",
      "50  1971               67.35                119                1.64\n",
      "51  1970               62.42                112                5.16\n",
      "52  1969               58.45                108                6.54\n",
      "53  1968               53.09                100                3.39\n",
      "54  1967               50.13                 96                7.83\n",
      "55  1966               45.87                 90               -0.06\n",
      "56  1965               59.55                119               -2.64\n",
      "57  1964               56.48                116                7.45\n",
      "58  1963               48.42                101                5.99\n",
      "59  1962               42.16                 90                2.93\n",
      "60  1961               39.23                 85                3.72\n"
     ]
    }
   ],
   "source": [
    "print(pd.read_csv(\"India_GDP_Data.csv\").to_string())"
   ]
  },
  {
   "cell_type": "code",
   "execution_count": 85,
   "id": "0b616940-e1f3-4ed0-b168-e3d8a40720d6",
   "metadata": {},
   "outputs": [
    {
     "name": "stdout",
     "output_type": "stream",
     "text": [
      "    Year  GDP_In_Billion_USD  Per_Capita_in_USD  Percentage_Growth \n",
      "0   2021             3173.40               2277                8.95\n",
      "1   2020             2667.69               1933               -6.60\n",
      "2   2019             2831.55               2072                3.74\n",
      "3   2018             2702.93               1998                6.45\n",
      "4   2017             2651.47               1981                6.80\n",
      "..   ...                 ...                ...                 ...\n",
      "56  1965               59.55                119               -2.64\n",
      "57  1964               56.48                116                7.45\n",
      "58  1963               48.42                101                5.99\n",
      "59  1962               42.16                 90                2.93\n",
      "60  1961               39.23                 85                3.72\n",
      "\n",
      "[61 rows x 4 columns]\n"
     ]
    }
   ],
   "source": [
    "df=pd.read_csv(\"India_GDP_Data.csv\")\n",
    "df=pd.DataFrame(df)\n",
    "df.sort_values(by=['Year'], ascending=True)\n",
    "print(df)"
   ]
  },
  {
   "cell_type": "code",
   "execution_count": 20,
   "id": "52336a9d-b53f-41d4-b156-421eed0b6cd2",
   "metadata": {},
   "outputs": [
    {
     "name": "stdout",
     "output_type": "stream",
     "text": [
      "    Year  GDP_In_Billion_USD  Per_Capita_in_USD  Percentage_Growth \n",
      "0   2021             3173.40               2277                8.95\n",
      "1   2020             2667.69               1933               -6.60\n",
      "2   2019             2831.55               2072                3.74\n",
      "3   2018             2702.93               1998                6.45\n",
      "4   2017             2651.47               1981                6.80\n",
      "..   ...                 ...                ...                 ...\n",
      "56  1965               59.55                119               -2.64\n",
      "57  1964               56.48                116                7.45\n",
      "58  1963               48.42                101                5.99\n",
      "59  1962               42.16                 90                2.93\n",
      "60  1961               39.23                 85                3.72\n",
      "\n",
      "[61 rows x 4 columns]\n",
      "      GDP_In_Billion_USD  Per_Capita_in_USD  Percentage_Growth \n",
      "Year                                                           \n",
      "2021             3173.40               2277                8.95\n",
      "2020             2667.69               1933               -6.60\n",
      "2019             2831.55               2072                3.74\n",
      "2018             2702.93               1998                6.45\n",
      "2017             2651.47               1981                6.80\n",
      "...                  ...                ...                 ...\n",
      "1965               59.55                119               -2.64\n",
      "1964               56.48                116                7.45\n",
      "1963               48.42                101                5.99\n",
      "1962               42.16                 90                2.93\n",
      "1961               39.23                 85                3.72\n",
      "\n",
      "[61 rows x 3 columns]\n"
     ]
    }
   ],
   "source": [
    "df=pd.read_csv(\"India_GDP_Data.csv\")\n",
    "print(df)\n",
    "df=pd.DataFrame(df).set_index(\"Year\")\n",
    "print(df)"
   ]
  },
  {
   "cell_type": "code",
   "execution_count": 26,
   "id": "243c08c1-a301-4c68-bfad-d791cb187753",
   "metadata": {},
   "outputs": [
    {
     "name": "stdout",
     "output_type": "stream",
     "text": [
      "      GDP_In_Billion_USD  Per_Capita_in_USD  Percentage_Growth \n",
      "Year                                                           \n",
      "2021             3173.40               2277                8.95\n",
      "2020             2667.69               1933               -6.60\n"
     ]
    }
   ],
   "source": [
    "print(df.iloc[[0,1],:])\n",
    "    "
   ]
  },
  {
   "cell_type": "code",
   "execution_count": 41,
   "id": "1cb9ce33-46e3-4a27-97ac-05be0f7e386a",
   "metadata": {},
   "outputs": [
    {
     "name": "stdout",
     "output_type": "stream",
     "text": [
      "     name occupation  salary\n",
      "0    arun       peon    2000\n",
      "1  adarsh  developer   15000\n",
      "2  faseen     driver   34000\n",
      "3  sarath       peon    3000\n",
      "4    sara     driver    8000\n",
      "             salary\n",
      "occupation         \n",
      "developer   15000.0\n",
      "driver      21000.0\n",
      "peon         2500.0\n"
     ]
    }
   ],
   "source": [
    "df=pd.read_csv(\"dd.csv\")\n",
    "df=pd.DataFrame(df)\n",
    "print(df)\n",
    "x=df.groupby(\"occupation\").mean(\"salary\")\n",
    "print(x)"
   ]
  },
  {
   "cell_type": "code",
   "execution_count": 47,
   "id": "46a56e17-b9c3-49f7-87c7-e157ddddd085",
   "metadata": {},
   "outputs": [
    {
     "name": "stdout",
     "output_type": "stream",
     "text": [
      "     name occupation   salary\n",
      "0    arun       peon   2000.0\n",
      "1  adarsh  developer      NaN\n",
      "2  faseen     driver  34000.0\n",
      "3  sarath       peon      NaN\n",
      "4    sara     driver   8000.0\n"
     ]
    },
    {
     "data": {
      "text/html": [
       "<div>\n",
       "<style scoped>\n",
       "    .dataframe tbody tr th:only-of-type {\n",
       "        vertical-align: middle;\n",
       "    }\n",
       "\n",
       "    .dataframe tbody tr th {\n",
       "        vertical-align: top;\n",
       "    }\n",
       "\n",
       "    .dataframe thead th {\n",
       "        text-align: right;\n",
       "    }\n",
       "</style>\n",
       "<table border=\"1\" class=\"dataframe\">\n",
       "  <thead>\n",
       "    <tr style=\"text-align: right;\">\n",
       "      <th></th>\n",
       "      <th>name</th>\n",
       "      <th>occupation</th>\n",
       "      <th>salary</th>\n",
       "    </tr>\n",
       "  </thead>\n",
       "  <tbody>\n",
       "    <tr>\n",
       "      <th>0</th>\n",
       "      <td>arun</td>\n",
       "      <td>peon</td>\n",
       "      <td>2000.0</td>\n",
       "    </tr>\n",
       "    <tr>\n",
       "      <th>1</th>\n",
       "      <td>adarsh</td>\n",
       "      <td>developer</td>\n",
       "      <td>0.0</td>\n",
       "    </tr>\n",
       "    <tr>\n",
       "      <th>2</th>\n",
       "      <td>faseen</td>\n",
       "      <td>driver</td>\n",
       "      <td>34000.0</td>\n",
       "    </tr>\n",
       "    <tr>\n",
       "      <th>3</th>\n",
       "      <td>sarath</td>\n",
       "      <td>peon</td>\n",
       "      <td>0.0</td>\n",
       "    </tr>\n",
       "    <tr>\n",
       "      <th>4</th>\n",
       "      <td>sara</td>\n",
       "      <td>driver</td>\n",
       "      <td>8000.0</td>\n",
       "    </tr>\n",
       "  </tbody>\n",
       "</table>\n",
       "</div>"
      ],
      "text/plain": [
       "     name occupation   salary\n",
       "0    arun       peon   2000.0\n",
       "1  adarsh  developer      0.0\n",
       "2  faseen     driver  34000.0\n",
       "3  sarath       peon      0.0\n",
       "4    sara     driver   8000.0"
      ]
     },
     "execution_count": 47,
     "metadata": {},
     "output_type": "execute_result"
    }
   ],
   "source": [
    "df=pd.read_csv(\"dt.csv\")\n",
    "df=pd.DataFrame(df)\n",
    "print(df)\n",
    "df.fillna(0)"
   ]
  },
  {
   "cell_type": "code",
   "execution_count": 53,
   "id": "0917ce8f-3725-46a7-970b-69dfff5ded4a",
   "metadata": {},
   "outputs": [
    {
     "data": {
      "text/html": [
       "<div>\n",
       "<style scoped>\n",
       "    .dataframe tbody tr th:only-of-type {\n",
       "        vertical-align: middle;\n",
       "    }\n",
       "\n",
       "    .dataframe tbody tr th {\n",
       "        vertical-align: top;\n",
       "    }\n",
       "\n",
       "    .dataframe thead th {\n",
       "        text-align: right;\n",
       "    }\n",
       "</style>\n",
       "<table border=\"1\" class=\"dataframe\">\n",
       "  <thead>\n",
       "    <tr style=\"text-align: right;\">\n",
       "      <th></th>\n",
       "      <th>company_name</th>\n",
       "      <th>profit</th>\n",
       "    </tr>\n",
       "  </thead>\n",
       "  <tbody>\n",
       "    <tr>\n",
       "      <th>0</th>\n",
       "      <td>tata</td>\n",
       "      <td>True</td>\n",
       "    </tr>\n",
       "    <tr>\n",
       "      <th>1</th>\n",
       "      <td>reliance</td>\n",
       "      <td>True</td>\n",
       "    </tr>\n",
       "    <tr>\n",
       "      <th>2</th>\n",
       "      <td>infosys</td>\n",
       "      <td>False</td>\n",
       "    </tr>\n",
       "    <tr>\n",
       "      <th>3</th>\n",
       "      <td>p&amp;g</td>\n",
       "      <td>False</td>\n",
       "    </tr>\n",
       "  </tbody>\n",
       "</table>\n",
       "</div>"
      ],
      "text/plain": [
       "  company_name profit\n",
       "0         tata   True\n",
       "1     reliance   True\n",
       "2      infosys  False\n",
       "3          p&g  False"
      ]
     },
     "execution_count": 53,
     "metadata": {},
     "output_type": "execute_result"
    }
   ],
   "source": [
    "df=pd.read_csv(\"df.csv\")\n",
    "df=pd.DataFrame(df)\n",
    "df\n",
    "#df[\"profit\"]=df[\"profit\"].apply[lambda x:x>0]\n",
    "df.loc[df[\"profit\"]>0,\"profit\"]=True\n",
    "df.loc[df[\"profit\"]<=0,\"profit\"]=False\n",
    "df"
   ]
  },
  {
   "cell_type": "code",
   "execution_count": 71,
   "id": "74d6b475-ec32-41cd-a78b-5709e8490e69",
   "metadata": {},
   "outputs": [],
   "source": [
    "emp1={\n",
    "    'empid':[1,2,3,4,5],\n",
    "    'empname':['ajsar','abhinand','tmt','basil','arun'],\n",
    "    'stipent':[1000,2000,1500,1400,500],\n",
    "}\n",
    "emp2={\n",
    "    'empid':[1,2,3,4,5],\n",
    "    'designation':['teacher','doctor','clerk','developer','analyst']\n",
    "}\n",
    "df_emp1=pd.DataFrame(emp1)\n",
    "df_emp2=pd.DataFrame(emp2)\n",
    "df=pd.merge(df_emp1,df_emp2,how=\"inner\")"
   ]
  },
  {
   "cell_type": "code",
   "execution_count": 72,
   "id": "32c39cfc-a03d-4a47-8191-f6e5dca783c6",
   "metadata": {},
   "outputs": [
    {
     "data": {
      "text/html": [
       "<div>\n",
       "<style scoped>\n",
       "    .dataframe tbody tr th:only-of-type {\n",
       "        vertical-align: middle;\n",
       "    }\n",
       "\n",
       "    .dataframe tbody tr th {\n",
       "        vertical-align: top;\n",
       "    }\n",
       "\n",
       "    .dataframe thead th {\n",
       "        text-align: right;\n",
       "    }\n",
       "</style>\n",
       "<table border=\"1\" class=\"dataframe\">\n",
       "  <thead>\n",
       "    <tr style=\"text-align: right;\">\n",
       "      <th></th>\n",
       "      <th>empid</th>\n",
       "      <th>empname</th>\n",
       "      <th>stipent</th>\n",
       "      <th>designation</th>\n",
       "    </tr>\n",
       "  </thead>\n",
       "  <tbody>\n",
       "    <tr>\n",
       "      <th>0</th>\n",
       "      <td>1</td>\n",
       "      <td>ajsar</td>\n",
       "      <td>1000</td>\n",
       "      <td>teacher</td>\n",
       "    </tr>\n",
       "    <tr>\n",
       "      <th>1</th>\n",
       "      <td>2</td>\n",
       "      <td>abhinand</td>\n",
       "      <td>2000</td>\n",
       "      <td>doctor</td>\n",
       "    </tr>\n",
       "    <tr>\n",
       "      <th>2</th>\n",
       "      <td>3</td>\n",
       "      <td>tmt</td>\n",
       "      <td>1500</td>\n",
       "      <td>clerk</td>\n",
       "    </tr>\n",
       "    <tr>\n",
       "      <th>3</th>\n",
       "      <td>4</td>\n",
       "      <td>basil</td>\n",
       "      <td>1400</td>\n",
       "      <td>developer</td>\n",
       "    </tr>\n",
       "    <tr>\n",
       "      <th>4</th>\n",
       "      <td>5</td>\n",
       "      <td>arun</td>\n",
       "      <td>500</td>\n",
       "      <td>analyst</td>\n",
       "    </tr>\n",
       "  </tbody>\n",
       "</table>\n",
       "</div>"
      ],
      "text/plain": [
       "   empid   empname  stipent designation\n",
       "0      1     ajsar     1000     teacher\n",
       "1      2  abhinand     2000      doctor\n",
       "2      3       tmt     1500       clerk\n",
       "3      4     basil     1400   developer\n",
       "4      5      arun      500     analyst"
      ]
     },
     "execution_count": 72,
     "metadata": {},
     "output_type": "execute_result"
    }
   ],
   "source": [
    "df"
   ]
  },
  {
   "cell_type": "code",
   "execution_count": null,
   "id": "3c1135dd-61a9-407d-994f-24e913406f92",
   "metadata": {},
   "outputs": [],
   "source": []
  }
 ],
 "metadata": {
  "kernelspec": {
   "display_name": "Python 3 (ipykernel)",
   "language": "python",
   "name": "python3"
  },
  "language_info": {
   "codemirror_mode": {
    "name": "ipython",
    "version": 3
   },
   "file_extension": ".py",
   "mimetype": "text/x-python",
   "name": "python",
   "nbconvert_exporter": "python",
   "pygments_lexer": "ipython3",
   "version": "3.10.4"
  }
 },
 "nbformat": 4,
 "nbformat_minor": 5
}
