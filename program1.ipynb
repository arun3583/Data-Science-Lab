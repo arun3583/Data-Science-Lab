{
 "cells": [
  {
   "cell_type": "code",
   "execution_count": 15,
   "id": "b5d6cdfa-770c-486e-8f33-688cf5953127",
   "metadata": {},
   "outputs": [
    {
     "name": "stdout",
     "output_type": "stream",
     "text": [
      "Original numbers:\n",
      "[3, 5, 6]\n",
      "[2, 5, 7]\n",
      "Comparison - greater\n",
      "[ True False False]\n",
      "Comparison - greater_equal\n",
      "[ True  True False]\n",
      "Comparison - less\n",
      "[False False  True]\n",
      "Comparison - less_equal\n",
      "[False  True  True]\n"
     ]
    }
   ],
   "source": [
    "import numpy as np\n",
    "x = [3, 5,6]\n",
    "y = [2, 5,7]\n",
    "print(\"Original numbers:\")\n",
    "print(x)\n",
    "print(y)\n",
    "print(\"Comparison - greater\")\n",
    "print(np.greater(x, y))\n",
    "print(\"Comparison - greater_equal\")\n",
    "print(np.greater_equal(x, y))\n",
    "print(\"Comparison - less\")\n",
    "print(np.less(x, y))\n",
    "print(\"Comparison - less_equal\")\n",
    "print(np.less_equal(x, y))"
   ]
  },
  {
   "cell_type": "code",
   "execution_count": 16,
   "id": "811d94e7-1bc3-4b5e-a5b4-1324b476d313",
   "metadata": {},
   "outputs": [
    {
     "name": "stdout",
     "output_type": "stream",
     "text": [
      "[30, 32, 34, 36, 38, 40, 42, 44, 46, 48, 50, 52, 54, 56, 58, 60, 62, 64, 66, 68]\n"
     ]
    }
   ],
   "source": [
    "evens = [x for x in range(30,70) if x%2 == 0]\n",
    "print(evens)"
   ]
  },
  {
   "cell_type": "code",
   "execution_count": 60,
   "id": "1a011edb-3f16-494f-921a-48297af5555d",
   "metadata": {},
   "outputs": [
    {
     "name": "stdout",
     "output_type": "stream",
     "text": [
      "identity matrix with order 3\n",
      " [[1 0 0]\n",
      " [0 1 0]\n",
      " [0 0 1]]\n"
     ]
    }
   ],
   "source": [
    "a=np.eye(3,dtype=\"int64\")\n",
    "print(\"identity matrix with order 3\\n\",a)"
   ]
  },
  {
   "cell_type": "code",
   "execution_count": 45,
   "id": "4dde3270-fbfc-47d6-9cb1-72f22d06636b",
   "metadata": {},
   "outputs": [
    {
     "name": "stdout",
     "output_type": "stream",
     "text": [
      "[  0   1   2   3   4   5   6   7   8   9 -10 -11 -12 -13 -14  15  16  17\n",
      "  18  19  20]\n"
     ]
    }
   ],
   "source": [
    "import numpy\n",
    "vec=np.arange(21)\n",
    "vec[(vec>9) & (vec<15)]*=-1\n",
    "print(vec)"
   ]
  },
  {
   "cell_type": "code",
   "execution_count": 59,
   "id": "daf005e3-c9b9-446c-8ab7-bdef8f3bc58d",
   "metadata": {},
   "outputs": [
    {
     "name": "stdout",
     "output_type": "stream",
     "text": [
      "identity matrix with 1,2,3,4,5 as diagonal\n",
      " [[1 0 0 0 0]\n",
      " [0 2 0 0 0]\n",
      " [0 0 3 0 0]\n",
      " [0 0 0 4 0]\n",
      " [0 0 0 0 5]]\n"
     ]
    }
   ],
   "source": [
    "import numpy as np\n",
    "k=np.eye(5,dtype=\"int64\")\n",
    "np.fill_diagonal(k, [1,2,3,4,5])\n",
    "print(\"identity matrix with 1,2,3,4,5 as diagonal\\n\",k)"
   ]
  },
  {
   "cell_type": "code",
   "execution_count": 58,
   "id": "22b0869e-3aee-4916-86be-aad774b9a22a",
   "metadata": {},
   "outputs": [
    {
     "name": "stdout",
     "output_type": "stream",
     "text": [
      "sum of elements:\n",
      " 39\n",
      "sum of elements column wise\n",
      " [[ 6  9 10 14]]\n",
      "sum of elements row wise\n",
      " [[10]\n",
      " [14]\n",
      " [15]]\n"
     ]
    }
   ],
   "source": [
    "import numpy as np\n",
    "a=np.matrix('1 2 3 4;2 3 4 5;3 4 3 5')\n",
    "print(\"sum of elements:\\n\",np.sum(a))\n",
    "print(\"sum of elements column wise\\n\",np.sum(a,axis=0))\n",
    "print(\"sum of elements row wise\\n\",np.sum(a,axis=1))"
   ]
  },
  {
   "cell_type": "code",
   "execution_count": 19,
   "id": "2968099b-766b-487c-9160-df9bbd377197",
   "metadata": {},
   "outputs": [
    {
     "name": "stdout",
     "output_type": "stream",
     "text": [
      "array is: [[1 2 3]\n",
      " [4 5 6]\n",
      " [3 2 4]]\n",
      "file1.txt:\n",
      " [[1 2 3]\n",
      " [4 5 6]\n",
      " [3 2 4]]\n"
     ]
    }
   ],
   "source": [
    "a=np.matrix('1 2 3;4 5 6;3 2 4')\n",
    "ar=np.array(a)\n",
    "print(\"array is:\",a)\n",
    "file=open(\"file1.txt\",\"w\")\n",
    "c=str(ar)\n",
    "file.write(c)\n",
    "file.close()\n",
    "file=open(\"file1.txt\",\"r\")\n",
    "print(\"file1.txt:\\n\",file.read())\n",
    "file.close()"
   ]
  },
  {
   "cell_type": "code",
   "execution_count": 21,
   "id": "e8868bae-3e2a-4529-9c88-f0bd9990cd75",
   "metadata": {},
   "outputs": [
    {
     "name": "stdout",
     "output_type": "stream",
     "text": [
      "[False  True False False]\n"
     ]
    }
   ],
   "source": [
    "a=[2,3,4,5]\n",
    "b=[4,3,7,8]\n",
    "print(np.equal(a,b))"
   ]
  },
  {
   "cell_type": "code",
   "execution_count": 57,
   "id": "790d1b49-a0c7-4a7a-9bcf-89475aad43c1",
   "metadata": {},
   "outputs": [
    {
     "name": "stdout",
     "output_type": "stream",
     "text": [
      "matrix is:\n",
      " [[3 2 2 2]\n",
      " [3 2 1 3]\n",
      " [0 3 0 1]\n",
      " [1 3 2 0]]\n",
      "first and last row swapped:\n",
      " [[1 3 2 0]\n",
      " [3 2 1 3]\n",
      " [0 3 0 1]\n",
      " [3 2 2 2]]\n"
     ]
    }
   ],
   "source": [
    "a=np.random.randint(4,size=(4,4))\n",
    "print(\"matrix is:\\n\",a)\n",
    "a[[-1,0]]=a[[0,-1]]\n",
    "print(\"first and last row swapped:\\n\",a)"
   ]
  },
  {
   "cell_type": "code",
   "execution_count": 55,
   "id": "be77045d-a2c3-4105-9eb6-65ec0e1de3f2",
   "metadata": {},
   "outputs": [
    {
     "name": "stdout",
     "output_type": "stream",
     "text": [
      "first array is:       [1, 2, 3, 4]\n",
      "second array is:      [3, 4, 5, 8]\n",
      "Multiplied array is: [ 3  8 15 32]\n"
     ]
    }
   ],
   "source": [
    "a=[1,2,3,4]\n",
    "print(\"first array is:      \",a)\n",
    "b=[3,4,5,8]\n",
    "print(\"second array is:     \",b)\n",
    "c=np.multiply(a,b)\n",
    "print(\"Multiplied array is:\",c)"
   ]
  },
  {
   "cell_type": "code",
   "execution_count": null,
   "id": "551b4680-362a-48d1-853e-3b814dcfb0ab",
   "metadata": {},
   "outputs": [],
   "source": []
  }
 ],
 "metadata": {
  "kernelspec": {
   "display_name": "Python 3 (ipykernel)",
   "language": "python",
   "name": "python3"
  },
  "language_info": {
   "codemirror_mode": {
    "name": "ipython",
    "version": 3
   },
   "file_extension": ".py",
   "mimetype": "text/x-python",
   "name": "python",
   "nbconvert_exporter": "python",
   "pygments_lexer": "ipython3",
   "version": "3.10.4"
  }
 },
 "nbformat": 4,
 "nbformat_minor": 5
}
