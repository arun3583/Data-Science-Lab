{
 "cells": [
  {
   "cell_type": "code",
   "execution_count": null,
   "id": "cb171ed4-6073-494e-b411-0e5a45ad5157",
   "metadata": {},
   "outputs": [],
   "source": [
    "import numpy as np\n",
    "from fractions import Fraction\n",
    "R = int(input(\"Enter the number of rows\\n\"))\n",
    "C = int(input(\"Enter the number of columns\\n\"))\n",
    "k=C*R\n",
    "print(\"Enter the \",k,\"entries in a single line (separated by space) of first matrix\\n \")\n",
    "entries1 = list(map(int, input().split()))\n",
    "matrix1 = np.array(entries1).reshape(R, C)\n",
    "print(\"Enter the \",k,\"entries in a single line (separated by space) of second matrix\\n \")\n",
    "entries2 = list(map(int, input().split()))\n",
    "matrix2 = np.array(entries2).reshape(R, C)\n",
    "print(matrix1)\n",
    "print(matrix2)\n",
    "dot=np.dot(matrix1,matrix2)\n",
    "print(\"dot product of two matrix is :\\n\",dot)\n",
    "print(\"transpose of dot product is :\\n\",np.transpose(dot))\n",
    "print(\"trace of dot product is :\\n\",np.trace(dot))\n",
    "print(\"RANK of dot product is :\\n\",np.linalg.matrix_rank(dot))\n",
    "print(\"DETERMINANT of dot product is :\\n\",int(np.linalg.det(dot)))\n",
    "print(\"inverse of dot product is :\\n\",np.linalg.inv(dot))\n",
    "print(\"eigen values of dot product is :\\n\",np.linalg.eig(dot))"
   ]
  },
  {
   "cell_type": "code",
   "execution_count": null,
   "id": "8a6c6db7-a738-4298-acf4-5b499d73bad4",
   "metadata": {},
   "outputs": [],
   "source": []
  }
 ],
 "metadata": {
  "kernelspec": {
   "display_name": "Python 3 (ipykernel)",
   "language": "python",
   "name": "python3"
  },
  "language_info": {
   "codemirror_mode": {
    "name": "ipython",
    "version": 3
   },
   "file_extension": ".py",
   "mimetype": "text/x-python",
   "name": "python",
   "nbconvert_exporter": "python",
   "pygments_lexer": "ipython3",
   "version": "3.10.4"
  }
 },
 "nbformat": 4,
 "nbformat_minor": 5
}
